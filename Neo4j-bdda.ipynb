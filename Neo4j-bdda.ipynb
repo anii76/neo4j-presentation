{
 "cells": [
  {
   "cell_type": "markdown",
   "id": "7624d7cc",
   "metadata": {
    "slideshow": {
     "slide_type": "slide"
    }
   },
   "source": [
    "![neo4j.jpg](pics/neo4j.jpg)\n",
    "\n",
    "# &nbsp;&nbsp;&nbsp;&nbsp;&nbsp;&nbsp;&nbsp;&nbsp;&nbsp;&nbsp;&nbsp;&nbsp;&nbsp;&nbsp;&nbsp;&nbsp;&nbsp;&nbsp;&nbsp;TP BDDA : Exploration et Manipulation du SGBD Neo4j\n",
    "\n",
    "<br>\n",
    "<br>\n",
    "\n",
    "### &nbsp;&nbsp;&nbsp;&nbsp;&nbsp;&nbsp;&nbsp;&nbsp;&nbsp;&nbsp;&nbsp;&nbsp;&nbsp;&nbsp;&nbsp;&nbsp;&nbsp;&nbsp;&nbsp;&nbsp;&nbsp;&nbsp;&nbsp;&nbsp;&nbsp;&nbsp;&nbsp;&nbsp;&nbsp;&nbsp;Réalisé par:&nbsp;&nbsp;&nbsp;&nbsp;&nbsp;&nbsp;&nbsp;&nbsp;&nbsp;&nbsp;&nbsp;&nbsp;&nbsp;&nbsp;&nbsp;&nbsp;&nbsp;&nbsp;&nbsp;&nbsp;&nbsp;&nbsp;&nbsp;&nbsp;&nbsp;&nbsp;&nbsp;&nbsp;&nbsp;&nbsp;&nbsp;&nbsp;&nbsp;&nbsp;&nbsp;&nbsp;&nbsp;&nbsp;&nbsp;&nbsp;&nbsp;&nbsp;&nbsp;&nbsp;&nbsp;&nbsp;&nbsp;&nbsp;&nbsp;&nbsp;&nbsp;&nbsp;&nbsp;&nbsp;&nbsp;&nbsp;&nbsp;&nbsp;&nbsp;&nbsp;&nbsp;&nbsp;&nbsp;&nbsp;&nbsp;&nbsp;&nbsp;&nbsp;&nbsp;&nbsp;&nbsp;&nbsp;&nbsp;Sous la supervision de:\n",
    "*   &nbsp;&nbsp;&nbsp;&nbsp;&nbsp;&nbsp;&nbsp;&nbsp;&nbsp;&nbsp;&nbsp;&nbsp;&nbsp;&nbsp;&nbsp;&nbsp;&nbsp;&nbsp;&nbsp;&nbsp;&nbsp;&nbsp;&nbsp;&nbsp;&nbsp;&nbsp;&nbsp;&nbsp;&nbsp;&nbsp;&nbsp;&nbsp;&nbsp;Anfal Bourouina                                                         &nbsp;&nbsp;&nbsp;&nbsp;&nbsp;&nbsp;&nbsp;&nbsp;&nbsp;&nbsp;&nbsp;&nbsp;&nbsp;&nbsp;&nbsp;&nbsp;&nbsp;&nbsp;&nbsp;&nbsp;&nbsp;&nbsp;&nbsp;&nbsp;&nbsp;&nbsp;&nbsp;&nbsp;&nbsp;&nbsp;&nbsp;&nbsp;&nbsp;&nbsp;&nbsp;&nbsp;&nbsp;&nbsp;&nbsp;&nbsp;&nbsp;&nbsp;&nbsp;&nbsp;&nbsp;&nbsp;&nbsp;&nbsp;&nbsp;&nbsp;&nbsp;&nbsp;&nbsp;&nbsp;&nbsp;&nbsp;&nbsp;&nbsp;&nbsp;&nbsp;&nbsp;&nbsp;&nbsp;&nbsp;&nbsp;&nbsp;&nbsp;&nbsp;&nbsp;&nbsp;&nbsp;&nbsp;&nbsp;&nbsp;&nbsp;&nbsp;&nbsp;&nbsp;&nbsp;&nbsp;&nbsp;&nbsp;&nbsp;&nbsp;&nbsp;&nbsp;&nbsp;&nbsp;&nbsp;&nbsp;&nbsp;&nbsp;&nbsp;&nbsp;&nbsp;&nbsp;&nbsp;&nbsp;&nbsp;&nbsp;&nbsp;&nbsp;&nbsp;Amrouche Karima\n",
    "*   &nbsp;&nbsp;&nbsp;&nbsp;&nbsp;&nbsp;&nbsp;&nbsp;&nbsp;&nbsp;&nbsp;&nbsp;&nbsp;&nbsp;&nbsp;&nbsp;&nbsp;&nbsp;&nbsp;&nbsp;&nbsp;&nbsp;&nbsp;&nbsp;&nbsp;&nbsp;&nbsp;&nbsp;&nbsp;&nbsp;&nbsp;&nbsp;&nbsp;SIQ3\n"
   ]
  },
  {
   "cell_type": "markdown",
   "id": "753cb5f2",
   "metadata": {
    "slideshow": {
     "slide_type": "slide"
    }
   },
   "source": [
    "# &nbsp;&nbsp;Plan de présentation\n",
    "\n",
    "<br>\n",
    "<br>\n",
    "\n",
    "* Introduction au Graph Database\n",
    "\n",
    "\n",
    "* Introduction au Neo4j\n",
    "\n",
    "\n",
    "* Préparation de l'environement du TP\n",
    "\n",
    "\n",
    "* Neo4j Browser\n",
    "\n",
    "\n",
    "* Intégration Neo4j et python (Un systeme de reccommendation de restaurants) \n",
    "\n"
   ]
  },
  {
   "cell_type": "markdown",
   "id": "a254e763",
   "metadata": {
    "slideshow": {
     "slide_type": "slide"
    }
   },
   "source": [
    "# C'est quoi une Graph Database ?\n",
    "<table><td>\n",
    "    <img src=\"pics/graph.jpg\" alt=\"graph\" width=\"300\"/></td>\n",
    "    <td><img src=\"pics/graph_.png\" alt=\"graph\" width=\"500\"/></td>\n",
    "</table>\n",
    "\n",
    "&nbsp;&nbsp;&nbsp;&nbsp;Une base de données de graphes est un type de base de données NoSQL, où elle utilise des structures de graphes pour les requêtes sémantiques avec des nœuds, des arêtes et des propriétés. La base de données de graphes est créée pour surmonter les limites des bases de données relationnelles.\n",
    "<br><br>\n",
    "&nbsp;&nbsp;Par exemple, la base de données de graphes utilise un modèle de graphe pour montrer les dépendances entre les nœuds de données, alors que les bases de données NoSQL utilisent des modèles de base de données pour relier les données par des connexions implicites. En termes plus simples, les relations sont un attribut dans une base de données de graphes, où on peut définir et donner des propriétés.\n",
    "<br><br>\n",
    "&nbsp;&nbsp;Les base de données en graphes sont utilisé largement dans plusieurs domaines surtout dans la data science et big data. Ils modélise bien les relations entre les entitées c'est pour ça ils sont souvent utilisé pour représenter les réseaux sociaux et pour trouver des patternes dans les données.\n"
   ]
  },
  {
   "cell_type": "markdown",
   "id": "2c274d0a",
   "metadata": {
    "slideshow": {
     "slide_type": "slide"
    }
   },
   "source": [
    "# C'est quoi Neo4j ?\n",
    "\n",
    "![n](pics/neo4j_logo.png)\n",
    "\n",
    "* Neo4j Graph Database est une base de données en graph native de la société neo4j. Il s'agit de l'une des bases de données en graph les plus célèbres du marché, où la base de données est optimisée pour les charges de travail online transactions et de science des données.\n",
    "\n",
    "\n",
    "* Elle garantit que les transactions sont ACID (atomicité, cohérence, isolation et durabilité), chaque transaction est fiable et unique au sein de cette base. L’un des points mis en avant par Neo Technology est la possibilité d’exécuter plusieurs millions de requêtes par seconde sur des relations entre nœuds.\n",
    "\n",
    "\n",
    "* Neo4J intègre son propre langage de requêtage, le Cypher. Il peut être appelé grâce à l’API REST fournie, ou via l’une des différentes implémentations disponibles pour les principaux langages, dont python."
   ]
  },
  {
   "cell_type": "markdown",
   "id": "e854c355",
   "metadata": {
    "slideshow": {
     "slide_type": "slide"
    }
   },
   "source": [
    "# Préparation de l'environnement du TP\n",
    "\n",
    "<br>\n",
    "<br>\n",
    "\n",
    "### Installation du SGBD Neo4j\n",
    "\n",
    "Neo4j propose plusieurs méthodes pour utiliser son SGBD, notamment à travers une application desktop **Neo4j Desktop**, **Neo4j Aura** en cloud ou bien en utilisant l'image docker de neo4j à travers **Neo4j Browser**. \n",
    "Pour ce TP on va continuer avec l'image docker de neo4j.\n",
    "Pour la partie code, on va utiliser Anaconda avec Jupyter Notebook pour manipuler le SGBD à travers python.\n",
    "\n",
    "#### Commandes docker\n",
    "\n",
    "```sh\n",
    "$ docker pull neo4j\n",
    "$ docker run -p 7474:7474 -p 7687:7687 -d --env NEO4J_AUTH=neo4j/test --volume=C:\\DELL\\Database:/import  --volume=C:\\DELL\\Data:/data neo4j:latest\n",
    "```\n",
    "\n",
    "les dossiers C:\\DELL\\Database et C:\\DELL\\Data designe les emplacements system montable sur le conteneur de neo4j pour echanger les fichiers entre le system et le conteneur.\n",
    "\n",
    "\n",
    "#### Environnement Conda\n",
    "\n",
    "On crée un environnement conda pour ce TP en utilisant les commandes suivantes:\n",
    "```sh\n",
    "$ conda create --name neo4j-bdd\n",
    "$ conda activate neo4j-bdd\n",
    "```\n",
    "\n",
    "On installe les libraries nécessaires pour communiquer avec neo4j et pour la manipulation de donées.\n",
    "```sh\n",
    "$ pip install neo4j-driver neo4jrestclient neo4jupyter py2neo\n",
    "$ pip install numpy pandas\n",
    "```\n"
   ]
  },
  {
   "cell_type": "markdown",
   "id": "611045a4",
   "metadata": {
    "slideshow": {
     "slide_type": "slide"
    }
   },
   "source": [
    "# Neo4j Browser\n",
    "\n",
    "Aprés avoir lancer le conteneur neo4j, on peut y accéder à travers le navigateur à l'adresse : http://localhost:7474/browser/.\n",
    "Pour se connecter, on entre le nom d'utilisateur et le mot de passe.Si vous y accédez pour la première fois, les informations d'identification sont les suivantes :\n",
    "\n",
    "nom d'utilisateur - **neo4j** <br>\n",
    "mot de passe - **neo4j** \n",
    "\n",
    "Ensuite, vous serez invité à modifier le mot de passe. Une fois que vous vous êtes connecté à la base de données, vous devriez voir l'interface utilisateur suivante :\n",
    "\n",
    "![1](pics/3.png)"
   ]
  },
  {
   "cell_type": "markdown",
   "id": "8c4d4e9a",
   "metadata": {
    "slideshow": {
     "slide_type": "subslide"
    }
   },
   "source": [
    "# Neo4j Browser\n",
    "\n",
    "A travers Neo4j browser, on peut manipuler les données en utilisant des requetes Cypher. \n",
    "\n",
    "* Création d'un ensemble de noeuds \n",
    "```sh\n",
    "CREATE (p:Person {name:\"Anfal\", age:\"22\"}),(p:Person {name:\"Kenza\", age:\"20\"}),(p:Person {name:\"Rihab\", age:\"18\"}),\n",
    "       (s:School {name:\"ESI\"}),(s:School {name:\"Institut Vétérinaire\"})\n",
    "```\n",
    "* Création des relations entres les neouds\n",
    "Exemple d'une relation entre le neoud Person et School.\n",
    "```sh\n",
    "MATCH(s:School), (p:Person) \n",
    "WHERE s.name = 'ESI' AND p.name='Anfal' \n",
    "CREATE (p)-[stu: STUDIED_AT]->(s)\n",
    "```\n",
    "<br>\n",
    "<br>\n",
    "\n",
    "![4](pics/4.png)"
   ]
  },
  {
   "cell_type": "markdown",
   "id": "c891edf6",
   "metadata": {
    "slideshow": {
     "slide_type": "subslide"
    }
   },
   "source": [
    "\n",
    "### Sélection des données \n",
    "\n",
    "1. Affichons tous les neouds de la base de données\n",
    "\n",
    "![5](pics/5.png)\n",
    "\n",
    "2. Afficher les relations de type :FRIEND\n",
    "\n",
    "![6](pics/6.png)"
   ]
  },
  {
   "cell_type": "markdown",
   "id": "79eea1c7",
   "metadata": {
    "slideshow": {
     "slide_type": "subslide"
    }
   },
   "source": [
    "### Ajout des données à partir d'un fichier CSV\n",
    "\n",
    "On place les fichiers .csv dans le répetoire C:\\DELL\\DATABASE pour que le conteneur peut accéder à ces fichiers directement.\n",
    "\n",
    "* Création des noeuds à partir du fichier CSV\n",
    "\n",
    "```sh\n",
    "LOAD CSV FROM \"file:///Customers.csv\" AS line CREATE (:Customer {customerNumber: toInteger(line[0]), customerName: line[1], contactLastName: line[2], contactFirstName: line[3], phone: line[4], addressLine1: line[5], addressLine2: line[6], city: line[7], state: line[8], postalCode: line[9], country: line[10], salesRepresentativeNumber: line[11], creditLimit: line[12]})\n",
    "```\n",
    "\n",
    "![7](pics/7.png)"
   ]
  },
  {
   "cell_type": "markdown",
   "id": "7dfa402f",
   "metadata": {
    "slideshow": {
     "slide_type": "slide"
    }
   },
   "source": [
    "# Intégration Neo4j avec python (Restaurant recommondation system)\n",
    "\n",
    "Afin d'appliquer les notions de graph database et neo4j précédement mentionnées, on va implemanté un simple system de recommendation de restaurants en python.\n",
    "\n",
    "Nous avons un réseaux social d'amis et un ensemble de restaurants dans differents emplacements servant differents types de spécialités (où cuisines). On veut recommender des restaurants à une personne selon les préférences de ses amis. \n",
    "\n",
    "### Modélisation des données\n",
    "Dressons la liste des nœuds et des relations afin de modéliser notre domaine sous forme de graphe. Nous allons besoins des noeuds suivants:\n",
    "- **Person** : représente une personne\n",
    "- **Restaurant** : représente un restaurant\n",
    "- **Location** : représente un lieu \n",
    "- **Cuisine** : represente une cuisine d'un pays/région\n",
    "\n",
    "Et les relations suivantes:\n",
    "\n",
    "- **IS_FRIEND_OF** : (p1: Person)-(:IS_FRIEND_OF)->(p2: Person)\n",
    "- **SERVES** : (r:Restaurant) -(:SERVES)-> (c:Cuisine)\n",
    "- **LOCATED_IN** : (r:Restaurant) -(:LOCATED_IN)-> (l:Location)\n",
    "- **LIKES** : (p:Person) -(:LIKES)-> (r:Restaurant)\n",
    "\n"
   ]
  },
  {
   "cell_type": "markdown",
   "id": "968fb038",
   "metadata": {
    "slideshow": {
     "slide_type": "subslide"
    }
   },
   "source": [
    "### Création de données\n",
    "\n",
    "Sur Neo4j browser on lance cette requete pour la création des données initiales.<br>\n",
    "[*données restaurants prises à partir de https://tripadvisor.com/*]\n",
    "\n",
    "```sh\n",
    "CREATE (amina:Person {name:\"Amina\"})-[:IS_FRIEND_OF]->(jamal:Person {name:\"Jamal\"}),\n",
    "       (amina)-[:IS_FRIEND_OF]->(sarah:Person {name:\"Sarah\"}),\n",
    "       (amina)-[:IS_FRIEND_OF]->(khaled:Person {name:\"Khaled\"}),\n",
    "       (amina)-[:IS_FRIEND_OF]->(elias:Person {name:\"Elias\"}),\n",
    "       (amina)-[:IS_FRIEND_OF]->(douaa:Person {name:\"Douaa\"}),\n",
    "       (amina)-[:IS_FRIEND_OF]->(ahmed:Person {name:\"Ahmed\"}),\n",
    "       (amina)-[:IS_FRIEND_OF]->(malik:Person {name:\"Malik\"}),\n",
    "\t   (jamal)-[:IS_FRIEND_OF]->(malik),(jamal)-[:IS_FRIEND_OF]->(sarah), \n",
    "       (sarah)-[:IS_FRIEND_OF]->(khaled),(sarah)-[:IS_FRIEND_OF]->(douaa),\n",
    "\t   (khaled)-[:IS_FRIEND_OF]->(ahmed),\n",
    "\t   (douaa)-[:IS_FRIEND_OF]->(amina),\n",
    "\t   (malik)-[:IS_FRIEND_OF]->(ahmed),(malik)-[:IS_FRIEND_OF]->(douaa),\n",
    "\t   \n",
    "\t   (benaknoun:Location {name:\"Ben Aknoun\"}),\n",
    "       (dely:Location {name:\"Dely Brahim\"}),\n",
    "       (algercentre:Location {name:\"Alger centre\"}),\n",
    "       (kouba:Location {name:\"Kouba\"}),\n",
    "\t   (sidiyahya:Location {name:\"Sidi yahya\"}),\n",
    "\t   \n",
    "       (japanese:Cuisine {name:\"Japanese\"}),\n",
    "       (indian:Cuisine {name:\"Indian\"}),\n",
    "       (algerian:Cuisine {name:\"Algerian\"}),\n",
    "       (french:Cuisine {name:\"French\"}),\n",
    "       (italian:Cuisine {name:\"Italian\"}),\n",
    "       \n",
    "\t   (r1:Restaurant {name:\"Taj Mahal\"})-[:SERVES]->(indian),(r1)-[:LOCATED_IN]->(benaknoun),\n",
    "       (khaled)-[:LIKES]->(r1),\n",
    "       (jamal)-[:LIKES]->(r1),\n",
    "       \n",
    "\t   (r2:Restaurant {name:\"Sushiima\"})-[:SERVES]->(japanese),(r2)-[:LOCATED_IN]->(sidiyahya),\n",
    "       (sarah)-[:LIKES]->(r2),\n",
    "       (elias)-[:LIKES]->(r2),\n",
    "       (malik)-[:LIKES]->(r2),\n",
    "       (douaa)-[:LIKES]->(r2),\n",
    "       \n",
    "\t   (r3:Restaurant {name:\"Les Orientaliste Alger\"})-[:SERVES]->(french),(r3)-[:LOCATED_IN]->(algercentre),\n",
    "       (amina)-[:LIKES]->(r3),\n",
    "       (ahmed)-[:LIKES]->(r3),\n",
    "       (malik)-[:LIKES]->(r3),\n",
    "       \n",
    "\t   (r4:Restaurant {name:\"La Palmerie Restaurant\"})-[:SERVES]->(algerian),(r4)-[:LOCATED_IN]->(dely),\n",
    "       (amina)-[:LIKES]->(r4),\n",
    "       (elias)-[:LIKES]->(r4),\n",
    "       (malik)-[:LIKES]->(r4),\n",
    "       \n",
    "\t   (r5:Restaurant {name:\"Le Dome\"})-[:SERVES]->(algerian),(r5)-[:LOCATED_IN]->(kouba),\n",
    "       (amina)-[:LIKES]->(r5),\n",
    "       (jamal)-[:LIKES]->(r5),\n",
    "       (douaa)-[:LIKES]->(r5),\n",
    "       (sarah)-[:LIKES]->(r5),\n",
    "       \n",
    "\t   (r6:Restaurant {name:\"So Pizza Authentic\"})-[:SERVES]->(italian),(r6)-[:LOCATED_IN]->(sidiyahya),\n",
    "       (ahmed)-[:LIKES]->(r6),\n",
    "       (khaled)-[:LIKES]->(r6),\n",
    "       (elias)-[:LIKES]->(r6)\n",
    "```\n"
   ]
  },
  {
   "cell_type": "markdown",
   "id": "59d5965a",
   "metadata": {
    "slideshow": {
     "slide_type": "subslide"
    }
   },
   "source": [
    "### Résultat \n",
    "\n",
    "<img src=\"pics/result.png\" alt=\"graph\" width=\"600\"/>"
   ]
  },
  {
   "cell_type": "markdown",
   "id": "4ed76518",
   "metadata": {
    "slideshow": {
     "slide_type": "slide"
    }
   },
   "source": [
    "# Partie Code\n",
    "\n",
    "<!--On va considere Amina le caractére principal et on va créer **Recomonder** pour avoir des recommdation pour Amina seulement.-->"
   ]
  },
  {
   "cell_type": "code",
   "execution_count": 1,
   "id": "4aed7124",
   "metadata": {
    "slideshow": {
     "slide_type": "fragment"
    }
   },
   "outputs": [],
   "source": [
    "!conda activate neo4j_bdd"
   ]
  },
  {
   "cell_type": "code",
   "execution_count": 2,
   "id": "2ec2619d",
   "metadata": {},
   "outputs": [],
   "source": [
    "#1. En utilisant la librarie officielle GraphDatabase\n",
    "from neo4j import GraphDatabase, basic_auth\n",
    "import logging\n",
    "from neo4j.exceptions import ServiceUnavailable"
   ]
  },
  {
   "cell_type": "code",
   "execution_count": 3,
   "id": "26bb29fa",
   "metadata": {},
   "outputs": [],
   "source": [
    "class Recommender:\n",
    "    def __init__(self, uri, user, password):\n",
    "        self.driver = GraphDatabase.driver(uri, auth=(user, password))\n",
    "    def close(self):\n",
    "        self.driver.close()\n",
    "   \n",
    "    # get friends from database\n",
    "    def find_friend(self, person_name):\n",
    "        with self.driver.session() as session:\n",
    "            result = session.read_transaction(self._find_and_return_friend, person_name)\n",
    "            return {\"friends\": result}\n",
    "\n",
    "    @staticmethod\n",
    "    def _find_and_return_friend(tx, person_name):\n",
    "        query = (\n",
    "            \"MATCH (p:Person {name: $person_name})-[:IS_FRIEND_OF]-(friend) \"\n",
    "            \"RETURN friend.name AS name\"\n",
    "        )\n",
    "        result = tx.run(query, person_name=person_name)\n",
    "        return [record[\"name\"] for record in result]\n",
    "    \n",
    "    # get recommendations from the database\n",
    "    def find_recommendation(self, person_name ,cuisine_name, location_name, person_list, max):\n",
    "        with self.driver.session() as session:\n",
    "            result = session.read_transaction(self._find_and_return_recommendation, person_name, cuisine_name, location_name, person_list, max)\n",
    "            return result\n",
    "\n",
    "    @staticmethod\n",
    "    def _find_and_return_recommendation(tx, person_name,cuisine_name, location_name, person_list, max):\n",
    "        # simple hack to generalized and parameterized functions into one\n",
    "        cuisine_string = \"(cuisine)\" if cuisine_name == '' else \"(cuisine:Cuisine {name: $cuisine_name})\"\n",
    "        location_string = \"(location)\" if location_name == '' else \"(location:Location {name: $location_name})\"\n",
    "        person_string = \"\" if len(person_list) == 0 else \"WHERE person.name IN %s\" % (str(person_list))\n",
    "\n",
    "        # if True, return only the restaurants with the highest number of likes by friends\n",
    "        if (max):\n",
    "            query = (\n",
    "                '''MATCH (restaurant:Restaurant)-[:LOCATED_IN]->%s,\n",
    "                      (restaurant)-[:SERVES]->%s,\n",
    "                      (person:Person)-[:LIKES]->(restaurant),\n",
    "                      (n:Person {name: \"%s\"})-[:IS_FRIEND_OF]-(person)\n",
    "                %s\n",
    "                WITH restaurant.name AS name, collect(person.name) AS likers, COUNT(*) AS occurence\n",
    "                WITH MAX(occurence) as max_count\n",
    "                MATCH (restaurant:Restaurant)-[:LOCATED_IN]->%s,\n",
    "                      (restaurant)-[:SERVES]->%s,\n",
    "                      (person:Person)-[:LIKES]->(restaurant),\n",
    "                      (n:Person {name: \"%s\"})-[:IS_FRIEND_OF]-(person)\n",
    "                %s\n",
    "                WITH restaurant.name AS name, collect(person.name) AS likers, COUNT(*) AS occurence, max_count\n",
    "                WHERE occurence = max_count\n",
    "                RETURN name, likers, occurence'''% (location_string, cuisine_string, person_name, person_string, \n",
    "                                                    location_string, cuisine_string, person_name, person_string)\n",
    "            )\n",
    "        else:\n",
    "            query = (\n",
    "                '''MATCH (restaurant:Restaurant)-[:LOCATED_IN]->%s,\n",
    "                      (restaurant)-[:SERVES]->%s,\n",
    "                      (person:Person)-[:LIKES]->(restaurant),\n",
    "                      (n:Person {name: \"%s\"})-[:IS_FRIEND_OF]->(person)\n",
    "                %s\n",
    "                RETURN restaurant.name AS name, collect(person.name) AS likers, COUNT(*) AS occurence\n",
    "                ORDER BY occurence DESC''' % (location_string, cuisine_string, person_name, person_string)\n",
    "            )\n",
    "\n",
    "\n",
    "        result = tx.run(query, person_name=person_name, cuisine_name=cuisine_name, location_name=location_name, person_list=person_list)\n",
    "\n",
    "        try:\n",
    "            return [{\"restaurant\": row[\"name\"], \"likers\": row[\"likers\"], \"occurence\": row[\"occurence\"]} for row in result]\n",
    "        except ServiceUnavailable as exception:\n",
    "            logging.error(\"{query} raised an error: \\n {exception}\".format(query=query, exception=exception))\n",
    "            raise"
   ]
  },
  {
   "cell_type": "code",
   "execution_count": 4,
   "id": "ca0f6704",
   "metadata": {},
   "outputs": [
    {
     "name": "stdout",
     "output_type": "stream",
     "text": [
      "{'friends': ['Douaa', 'Malik', 'Ahmed', 'Douaa', 'Elias', 'Khaled', 'Sarah', 'Jamal']}\n"
     ]
    }
   ],
   "source": [
    "if __name__ == \"__main__\":\n",
    "    uri = \"neo4j://localhost:7687\"\n",
    "    user = \"neo4j\"\n",
    "    password = \"test\"\n",
    "    app = Recommender(uri, user, password)\n",
    "    print(app.find_friend('Amina'))\n",
    "    #app.close()"
   ]
  },
  {
   "cell_type": "code",
   "execution_count": 158,
   "id": "a691a1a1",
   "metadata": {},
   "outputs": [
    {
     "data": {
      "text/plain": [
       "{'friends': ['Sarah', 'Malik', 'Amina']}"
      ]
     },
     "execution_count": 158,
     "metadata": {},
     "output_type": "execute_result"
    }
   ],
   "source": [
    "app.find_friend('Jamal')"
   ]
  },
  {
   "cell_type": "code",
   "execution_count": 6,
   "id": "e02f3ff9",
   "metadata": {},
   "outputs": [
    {
     "data": {
      "text/plain": [
       "[{'restaurant': 'Sushiima', 'likers': ['Sarah', 'Malik'], 'occurence': 2},\n",
       " {'restaurant': 'Le Dome', 'likers': ['Sarah'], 'occurence': 1},\n",
       " {'restaurant': 'La Palmerie Restaurant', 'likers': ['Malik'], 'occurence': 1}]"
      ]
     },
     "execution_count": 6,
     "metadata": {},
     "output_type": "execute_result"
    }
   ],
   "source": [
    "#Usage\n",
    "#find_recommendation(Person_name ,cuisine or '', location or '',[person_list] or '' , True/False)\n",
    "app.find_recommendation('Jamal','', '', '', False)"
   ]
  },
  {
   "cell_type": "code",
   "execution_count": 149,
   "id": "ccd89fa9",
   "metadata": {},
   "outputs": [
    {
     "data": {
      "text/plain": [
       "[{'restaurant': 'So Pizza Authentic', 'likers': ['Ahmed'], 'occurence': 1},\n",
       " {'restaurant': 'Les Orientaliste Alger', 'likers': ['Ahmed'], 'occurence': 1}]"
      ]
     },
     "execution_count": 149,
     "metadata": {},
     "output_type": "execute_result"
    }
   ],
   "source": [
    "app.find_recommendation('Khaled','', '', '', False)"
   ]
  },
  {
   "cell_type": "code",
   "execution_count": 7,
   "id": "854afd55",
   "metadata": {},
   "outputs": [],
   "source": [
    "app.close()"
   ]
  },
  {
   "cell_type": "code",
   "execution_count": 8,
   "id": "6b3a2719",
   "metadata": {},
   "outputs": [],
   "source": [
    "#2. En utilisant py2neo (Community version)\n",
    "from py2neo import Graph, Node, Relationship\n",
    "import pandas as pd\n",
    "import numpy as np"
   ]
  },
  {
   "cell_type": "code",
   "execution_count": 9,
   "id": "8533eeb2",
   "metadata": {},
   "outputs": [],
   "source": [
    "graph = Graph(uri , auth=(user,password))"
   ]
  },
  {
   "cell_type": "markdown",
   "id": "53d0f6ac",
   "metadata": {},
   "source": [
    "###  Retriving data : "
   ]
  },
  {
   "cell_type": "code",
   "execution_count": 10,
   "id": "86d6f70e",
   "metadata": {},
   "outputs": [
    {
     "data": {
      "text/plain": [
       "( location                              | restaurant                                         | cuisine                          \n",
       " ---------------------------------------|----------------------------------------------------|----------------------------------\n",
       "  (_10:Location {name: 'Ben Aknoun'})   | (_20:Restaurant {name: 'Taj Mahal'})               | (_16:Cuisine {name: 'Indian'})   \n",
       "  (_14:Location {name: 'Sidi yahya'})   | (_21:Restaurant {name: 'Sushiima'})                | (_15:Cuisine {name: 'Japanese'}) \n",
       "  (_12:Location {name: 'Alger centre'}) | (_22:Restaurant {name: 'Les Orientalistes Alger'}) | (_18:Cuisine {name: 'French'})   ,\n",
       " py2neo.cypher.Cursor)"
      ]
     },
     "execution_count": 10,
     "metadata": {},
     "output_type": "execute_result"
    }
   ],
   "source": [
    "#Query 1: lister les restaurants\n",
    "query = \"\"\"MATCH (location)<-[:LOCATED_IN]-(restaurant)-[:SERVES]->(cuisine)\n",
    "RETURN location, restaurant, cuisine\"\"\"\n",
    "result = graph.query(query)\n",
    "result , type(result)"
   ]
  },
  {
   "cell_type": "markdown",
   "id": "b9553008",
   "metadata": {},
   "source": [
    "On remarque que le résultat est de type ***Cursor*** , c'est à dire , si on fait appel une deuxieme fois à la variable result on ne trouvera pas le résultat de la requete (Cursor est executé une seule fois). C'est pour ça on doit stocker le résultat dans un dictionnaire python (en utilisant result.data())"
   ]
  },
  {
   "cell_type": "code",
   "execution_count": 11,
   "id": "1389249f",
   "metadata": {},
   "outputs": [
    {
     "name": "stdout",
     "output_type": "stream",
     "text": [
      " location                              | restaurant                                         | cuisine                        \r\n",
      "---------------------------------------|----------------------------------------------------|--------------------------------\r\n",
      " (_12:Location {name: 'Alger centre'}) | (_22:Restaurant {name: 'Les Orientalistes Alger'}) | (_18:Cuisine {name: 'French'}) \r\n",
      "\n",
      "[{'location': Node('Location', name='Alger centre'), 'restaurant': Node('Restaurant', name='Les Orientalistes Alger'), 'cuisine': Node('Cuisine', name='French')}]\n"
     ]
    }
   ],
   "source": [
    "# Resultat sous forme dict\n",
    "#Query 2: Restaurants of a specific location\n",
    "location = \"Alger centre\"\n",
    "query = \"MATCH (location:Location {name:\\\"%s\\\"})<-[:LOCATED_IN]-(restaurant)-[:SERVES]->(cuisine) RETURN location, restaurant, cuisine\" % location\n",
    "result = graph.query(query)\n",
    "print(result)\n",
    "print(result.data())"
   ]
  },
  {
   "cell_type": "code",
   "execution_count": 12,
   "id": "5e0bb7cb",
   "metadata": {},
   "outputs": [
    {
     "data": {
      "text/html": [
       "<div>\n",
       "<style scoped>\n",
       "    .dataframe tbody tr th:only-of-type {\n",
       "        vertical-align: middle;\n",
       "    }\n",
       "\n",
       "    .dataframe tbody tr th {\n",
       "        vertical-align: top;\n",
       "    }\n",
       "\n",
       "    .dataframe thead th {\n",
       "        text-align: right;\n",
       "    }\n",
       "</style>\n",
       "<table border=\"1\" class=\"dataframe\">\n",
       "  <thead>\n",
       "    <tr style=\"text-align: right;\">\n",
       "      <th></th>\n",
       "      <th>location</th>\n",
       "      <th>restaurant</th>\n",
       "      <th>cuisine</th>\n",
       "    </tr>\n",
       "  </thead>\n",
       "  <tbody>\n",
       "    <tr>\n",
       "      <th>0</th>\n",
       "      <td>Kouba</td>\n",
       "      <td>Le Dome</td>\n",
       "      <td>Algerian</td>\n",
       "    </tr>\n",
       "    <tr>\n",
       "      <th>1</th>\n",
       "      <td>Dely Brahim</td>\n",
       "      <td>La Palmerie Restaurant</td>\n",
       "      <td>Algerian</td>\n",
       "    </tr>\n",
       "  </tbody>\n",
       "</table>\n",
       "</div>"
      ],
      "text/plain": [
       "      location              restaurant   cuisine\n",
       "0        Kouba                 Le Dome  Algerian\n",
       "1  Dely Brahim  La Palmerie Restaurant  Algerian"
      ]
     },
     "execution_count": 12,
     "metadata": {},
     "output_type": "execute_result"
    }
   ],
   "source": [
    "# Resultat sous forme dataframe (pandas)\n",
    "#Query 3: Restaurants that serve specific cuisine\n",
    "cuisine = \"Algerian\"\n",
    "query = \"\"\"MATCH (location)<-[:LOCATED_IN]-(restaurant)-[:SERVES]->(cuisine:Cuisine {name: \"%s\"})\n",
    "RETURN location.name AS location, restaurant.name AS restaurant , cuisine.name AS cuisine\"\"\" % cuisine\n",
    "result = graph.query(query).to_data_frame()\n",
    "result.head()"
   ]
  },
  {
   "cell_type": "code",
   "execution_count": 14,
   "id": "6ac81b3f",
   "metadata": {},
   "outputs": [
    {
     "data": {
      "text/plain": [
       "array([['Sushiima', list(['Douaa', 'Malik', 'Douaa', 'Elias', 'Sarah']),\n",
       "        5],\n",
       "       ['Le Dome', list(['Douaa', 'Douaa', 'Sarah', 'Jamal']), 4],\n",
       "       ['So Pizza Authentic', list(['Ahmed', 'Elias', 'Khaled']), 3],\n",
       "       ['La Palmerie Restaurant', list(['Malik', 'Elias']), 2],\n",
       "       ['Taj Mahal', list(['Khaled', 'Jamal']), 2],\n",
       "       ['Les Orientalistes Alger', list(['Ahmed']), 1]], dtype=object)"
      ]
     },
     "execution_count": 14,
     "metadata": {},
     "output_type": "execute_result"
    }
   ],
   "source": [
    "# Resultat sous forme numpy array \n",
    "#Query 4: Restaurants that are preferred by 'Person's friends ordred by occurence\n",
    "person = \"Amina\"\n",
    "query = \"\"\"MATCH (restaurant:Restaurant)-[:LOCATED_IN]->(l:Location),\n",
    "      (restaurant)-[:SERVES]->(c:Cuisine),\n",
    "      (person:Person)-[:LIKES]->(restaurant),\n",
    "      (n:Person {name: '%s'})-[r:IS_FRIEND_OF]-(person)\n",
    "RETURN restaurant.name, collect(person.name) as likers, count(*) as occurence\n",
    "ORDER BY occurence DESC\"\"\" % person\n",
    "result = graph.query(query).to_ndarray()\n",
    "result"
   ]
  },
  {
   "cell_type": "markdown",
   "id": "689c500b",
   "metadata": {},
   "source": [
    "### Utilisation de curseur"
   ]
  },
  {
   "cell_type": "code",
   "execution_count": 15,
   "id": "44d32051",
   "metadata": {},
   "outputs": [
    {
     "name": "stdout",
     "output_type": "stream",
     "text": [
      "'Sushiima'\t['Douaa', 'Malik', 'Douaa', 'Elias', 'Sarah']\t5\n",
      "'Le Dome'\t['Douaa', 'Douaa', 'Sarah', 'Jamal']\t4\n",
      "'So Pizza Authentic'\t['Ahmed', 'Elias', 'Khaled']\t3\n",
      "'La Palmerie Restaurant'\t['Malik', 'Elias']\t2\n",
      "'Taj Mahal'\t['Khaled', 'Jamal']\t2\n",
      "'Les Orientalistes Alger'\t['Ahmed']\t1\n"
     ]
    }
   ],
   "source": [
    "gql = query\n",
    "cursor = graph.run(gql)\n",
    "# look forward cursor\n",
    "while cursor.forward():\n",
    "    record = cursor.current\n",
    "    print(record)"
   ]
  },
  {
   "cell_type": "code",
   "execution_count": 16,
   "id": "ae453106",
   "metadata": {},
   "outputs": [
    {
     "data": {
      "application/javascript": [
       "var link = document.createElement(\"link\");\n",
       "\tlink.ref = \"stylesheet\";\n",
       "\tlink.type = \"text/css\";\n",
       "\tlink.href = \"https://cdnjs.cloudflare.com/ajax/libs/vis/4.8.2/vis.css\";\n",
       "\tdocument.head.appendChild(link);\n",
       "require.config({     paths: {         vis: '//cdnjs.cloudflare.com/ajax/libs/vis/4.8.2/vis.min'     } }); require(['vis'], function(vis) {  window.vis = vis; }); "
      ],
      "text/plain": [
       "<IPython.core.display.Javascript object>"
      ]
     },
     "metadata": {},
     "output_type": "display_data"
    }
   ],
   "source": [
    "# Visualisation des requetes \n",
    "# src: https://github.com/merqurio/neo4jupyter\n",
    "import neo4jupyter\n",
    "neo4jupyter.init_notebook_mode()"
   ]
  },
  {
   "cell_type": "code",
   "execution_count": 17,
   "id": "b1f28fbc",
   "metadata": {},
   "outputs": [
    {
     "name": "stdout",
     "output_type": "stream",
     "text": [
      " restaurant                                         \r\n",
      "----------------------------------------------------\r\n",
      " (_25:Restaurant {name: 'So Pizza Authentic'})      \r\n",
      " (_22:Restaurant {name: 'Les Orientalistes Alger'}) \r\n",
      "\n"
     ]
    }
   ],
   "source": [
    "# Resultat sous forme numpy array \n",
    "#Query 5:  Restaurants prefered by a specific friend\n",
    "person = \"Amina\"\n",
    "friend = \"Ahmed\"\n",
    "query = \"\"\"MATCH (restaurant:Restaurant)-[:LOCATED_IN]->(location:Location),\n",
    "        (restaurant)-[:SERVES]->(cuisine:Cuisine),\n",
    "        (person:Person {name: \"%s\"})-[:LIKES]->(restaurant),\n",
    "        (n: Person {name: \"%s\"})-[f:IS_FRIEND_OF]-(person)\n",
    "RETURN restaurant\"\"\" % (friend , person)\n",
    "result = graph.query(query)\n",
    "print(result)"
   ]
  },
  {
   "cell_type": "code",
   "execution_count": 18,
   "id": "288c212c",
   "metadata": {},
   "outputs": [
    {
     "data": {
      "text/html": [
       "<div id=\"8259f93c-6ce9-4015-acff-02dfa1c1f881\" style=\"height: 400px;\"></div>\n",
       "\n",
       "<script type=\"text/javascript\">\n",
       "\n",
       "    var nodes = [{\"id\": 16, \"label\": \"\", \"group\": \"Cuisine\", \"title\": \"Node('Cuisine', name='Indian')\"}, {\"id\": 23, \"label\": \"La Palmerie Restaurant\", \"group\": \"Restaurant\", \"title\": \"Node('Restaurant', name='La Palmerie Restaurant')\"}, {\"id\": 11, \"label\": \"\", \"group\": \"Location\", \"title\": \"Node('Location', name='Dely Brahim')\"}, {\"id\": 17, \"label\": \"\", \"group\": \"Cuisine\", \"title\": \"Node('Cuisine', name='Algerian')\"}, {\"id\": 22, \"label\": \"Les Orientalistes Alger\", \"group\": \"Restaurant\", \"title\": \"Node('Restaurant', name='Les Orientalistes Alger')\"}, {\"id\": 12, \"label\": \"\", \"group\": \"Location\", \"title\": \"Node('Location', name='Alger centre')\"}, {\"id\": 18, \"label\": \"\", \"group\": \"Cuisine\", \"title\": \"Node('Cuisine', name='French')\"}, {\"id\": 9, \"label\": \"\", \"group\": \"Person\", \"title\": \"Node('Person', name='Malik')\"}, {\"id\": 21, \"label\": \"Sushiima\", \"group\": \"Restaurant\", \"title\": \"Node('Restaurant', name='Sushiima')\"}, {\"id\": 7, \"label\": \"\", \"group\": \"Person\", \"title\": \"Node('Person', name='Douaa')\"}, {\"id\": 8, \"label\": \"\", \"group\": \"Person\", \"title\": \"Node('Person', name='Ahmed')\"}, {\"id\": 0, \"label\": \"\", \"group\": \"Person\", \"title\": \"Node('Person', name='Salma')\"}, {\"id\": 20, \"label\": \"Taj Mahal\", \"group\": \"Restaurant\", \"title\": \"Node('Restaurant', name='Taj Mahal')\"}, {\"id\": 10, \"label\": \"\", \"group\": \"Location\", \"title\": \"Node('Location', name='Ben Aknoun')\"}, {\"id\": 5, \"label\": \"\", \"group\": \"Person\", \"title\": \"Node('Person', name='Khaled')\"}, {\"id\": 25, \"label\": \"So Pizza Authentic\", \"group\": \"Restaurant\", \"title\": \"Node('Restaurant', name='So Pizza Authentic')\"}, {\"id\": 14, \"label\": \"\", \"group\": \"Location\", \"title\": \"Node('Location', name='Sidi yahya')\"}, {\"id\": 15, \"label\": \"\", \"group\": \"Cuisine\", \"title\": \"Node('Cuisine', name='Japanese')\"}, {\"id\": 13, \"label\": \"\", \"group\": \"Location\", \"title\": \"Node('Location', name='Kouba')\"}, {\"id\": 3, \"label\": \"\", \"group\": \"Person\", \"title\": \"Node('Person', name='Jamal')\"}, {\"id\": 24, \"label\": \"Le Dome\", \"group\": \"Restaurant\", \"title\": \"Node('Restaurant', name='Le Dome')\"}, {\"id\": 4, \"label\": \"\", \"group\": \"Person\", \"title\": \"Node('Person', name='Sarah')\"}, {\"id\": 2, \"label\": \"\", \"group\": \"Person\", \"title\": \"Node('Person', name='Amina')\"}, {\"id\": 19, \"label\": \"\", \"group\": \"Cuisine\", \"title\": \"Node('Cuisine', name='Italian')\"}, {\"id\": 6, \"label\": \"\", \"group\": \"Person\", \"title\": \"Node('Person', name='Elias')\"}];\n",
       "    var edges = [{\"from\": 23, \"to\": 11, \"label\": \"LOCATED_IN\"}, {\"from\": 23, \"to\": 17, \"label\": \"SERVES\"}, {\"from\": 22, \"to\": 12, \"label\": \"LOCATED_IN\"}, {\"from\": 22, \"to\": 18, \"label\": \"SERVES\"}, {\"from\": 9, \"to\": 23, \"label\": \"LIKES\"}, {\"from\": 9, \"to\": 21, \"label\": \"LIKES\"}, {\"from\": 9, \"to\": 7, \"label\": \"IS_FRIEND_OF\"}, {\"from\": 9, \"to\": 8, \"label\": \"IS_FRIEND_OF\"}, {\"from\": 0, \"to\": 9, \"label\": \"IS_FRIEND_OF\"}, {\"from\": 0, \"to\": 20, \"label\": \"LIKES\"}, {\"from\": 5, \"to\": 25, \"label\": \"LIKES\"}, {\"from\": 5, \"to\": 20, \"label\": \"LIKES\"}, {\"from\": 5, \"to\": 8, \"label\": \"IS_FRIEND_OF\"}, {\"from\": 8, \"to\": 25, \"label\": \"LIKES\"}, {\"from\": 8, \"to\": 22, \"label\": \"LIKES\"}, {\"from\": 21, \"to\": 14, \"label\": \"LOCATED_IN\"}, {\"from\": 21, \"to\": 15, \"label\": \"SERVES\"}, {\"from\": 3, \"to\": 24, \"label\": \"LIKES\"}, {\"from\": 3, \"to\": 20, \"label\": \"LIKES\"}, {\"from\": 3, \"to\": 4, \"label\": \"IS_FRIEND_OF\"}, {\"from\": 3, \"to\": 9, \"label\": \"IS_FRIEND_OF\"}, {\"from\": 7, \"to\": 24, \"label\": \"LIKES\"}, {\"from\": 7, \"to\": 21, \"label\": \"LIKES\"}, {\"from\": 7, \"to\": 2, \"label\": \"IS_FRIEND_OF\"}, {\"from\": 6, \"to\": 23, \"label\": \"LIKES\"}, {\"from\": 6, \"to\": 25, \"label\": \"LIKES\"}, {\"from\": 6, \"to\": 21, \"label\": \"LIKES\"}, {\"from\": 20, \"to\": 10, \"label\": \"LOCATED_IN\"}, {\"from\": 20, \"to\": 16, \"label\": \"SERVES\"}, {\"from\": 2, \"to\": 24, \"label\": \"LIKES\"}, {\"from\": 2, \"to\": 23, \"label\": \"LIKES\"}, {\"from\": 2, \"to\": 22, \"label\": \"LIKES\"}, {\"from\": 2, \"to\": 9, \"label\": \"IS_FRIEND_OF\"}, {\"from\": 2, \"to\": 8, \"label\": \"IS_FRIEND_OF\"}, {\"from\": 2, \"to\": 7, \"label\": \"IS_FRIEND_OF\"}, {\"from\": 2, \"to\": 6, \"label\": \"IS_FRIEND_OF\"}, {\"from\": 2, \"to\": 5, \"label\": \"IS_FRIEND_OF\"}, {\"from\": 2, \"to\": 4, \"label\": \"IS_FRIEND_OF\"}, {\"from\": 2, \"to\": 3, \"label\": \"IS_FRIEND_OF\"}, {\"from\": 4, \"to\": 24, \"label\": \"LIKES\"}, {\"from\": 4, \"to\": 21, \"label\": \"LIKES\"}, {\"from\": 4, \"to\": 7, \"label\": \"IS_FRIEND_OF\"}, {\"from\": 4, \"to\": 5, \"label\": \"IS_FRIEND_OF\"}, {\"from\": 25, \"to\": 14, \"label\": \"LOCATED_IN\"}, {\"from\": 25, \"to\": 19, \"label\": \"SERVES\"}, {\"from\": 24, \"to\": 13, \"label\": \"LOCATED_IN\"}, {\"from\": 24, \"to\": 17, \"label\": \"SERVES\"}];\n",
       "\n",
       "    var container = document.getElementById(\"8259f93c-6ce9-4015-acff-02dfa1c1f881\");\n",
       "\n",
       "    var data = {\n",
       "        nodes: nodes,\n",
       "        edges: edges\n",
       "    };\n",
       "\n",
       "    var options = {\n",
       "    nodes: {\n",
       "        shape: 'dot',\n",
       "        size: 25,\n",
       "        font: {\n",
       "            size: 14\n",
       "        }\n",
       "    },\n",
       "    edges: {\n",
       "        font: {\n",
       "            size: 14,\n",
       "            align: 'middle'\n",
       "        },\n",
       "        color: 'gray',\n",
       "        arrows: {\n",
       "            to: {\n",
       "                enabled: true,\n",
       "                scaleFactor: 0.5\n",
       "            }\n",
       "        },\n",
       "        smooth: {\n",
       "            enabled: false\n",
       "        }\n",
       "    },\n",
       "    physics: {\n",
       "        enabled: true\n",
       "        }\n",
       "    };\n",
       "\n",
       "    var network = new vis.Network(container, data, options);\n",
       "\n",
       "</script>\n"
      ],
      "text/plain": [
       "<IPython.core.display.HTML object>"
      ]
     },
     "execution_count": 18,
     "metadata": {},
     "output_type": "execute_result"
    }
   ],
   "source": [
    "neo4jupyter.draw(graph, {\"Restaurant\": \"name\"})"
   ]
  },
  {
   "cell_type": "markdown",
   "id": "1316a415",
   "metadata": {},
   "source": [
    "### Creating , deleting and updating data\n",
    "\n",
    "\n",
    "1. Creation"
   ]
  },
  {
   "cell_type": "code",
   "execution_count": 170,
   "id": "fba1d4cf",
   "metadata": {},
   "outputs": [
    {
     "data": {
      "text/html": [
       "(No data)"
      ],
      "text/plain": [
       "(No data)"
      ]
     },
     "execution_count": 170,
     "metadata": {},
     "output_type": "execute_result"
    }
   ],
   "source": [
    "# Creating new person, relationships\n",
    "#Query 6: \n",
    "query = \"\"\"MATCH (malik:Person {name: 'Malik'}), (restaurant:Restaurant {name: 'Taj Mahal'})\n",
    "           CREATE (salma: Person {name: 'Salma'})-[:IS_FRIEND_OF]->(malik),\n",
    "           (salma)-[:LIKES]->(restaurant)\"\"\"\n",
    "graph.run(query)"
   ]
  },
  {
   "cell_type": "code",
   "execution_count": 176,
   "id": "cebe262a",
   "metadata": {},
   "outputs": [
    {
     "name": "stdout",
     "output_type": "stream",
     "text": [
      " salma                       \r\n",
      "-----------------------------\r\n",
      " (_0:Person {name: 'Salma'}) \r\n",
      "\n"
     ]
    }
   ],
   "source": [
    "#Confirm that node was created\n",
    "query = \"MATCH (salma: Person {name: 'Salma'}) RETURN salma\"\n",
    "result = graph.query(query)\n",
    "print(result)"
   ]
  },
  {
   "cell_type": "code",
   "execution_count": 177,
   "id": "853eacd9",
   "metadata": {},
   "outputs": [
    {
     "data": {
      "text/plain": [
       "[{'restaurant': 'La Palmerie Restaurant', 'likers': ['Malik'], 'occurence': 1},\n",
       " {'restaurant': 'Les Orientaliste Alger', 'likers': ['Malik'], 'occurence': 1},\n",
       " {'restaurant': 'Sushiima', 'likers': ['Malik'], 'occurence': 1}]"
      ]
     },
     "execution_count": 177,
     "metadata": {},
     "output_type": "execute_result"
    }
   ],
   "source": [
    "app.find_recommendation('Salma','', '', '', False)"
   ]
  },
  {
   "cell_type": "markdown",
   "id": "f40589a1",
   "metadata": {},
   "source": [
    "2. Deletion"
   ]
  },
  {
   "cell_type": "code",
   "execution_count": 178,
   "id": "003c17a5",
   "metadata": {},
   "outputs": [
    {
     "data": {
      "text/html": [
       "(No data)"
      ],
      "text/plain": [
       "(No data)"
      ]
     },
     "execution_count": 178,
     "metadata": {},
     "output_type": "execute_result"
    }
   ],
   "source": [
    "# Delete relationship (malik)-[:LIKES]-(orientalist)\n",
    "#Query 7:\n",
    "query = \"\"\"MATCH (malik: Person {name: 'Malik'})-[r:LIKES]-(orientalist:Restaurant {name: 'Les Orientaliste Alger'}) \n",
    "           DELETE r\"\"\"\n",
    "graph.run(query)"
   ]
  },
  {
   "cell_type": "code",
   "execution_count": 182,
   "id": "c9cbe741",
   "metadata": {},
   "outputs": [
    {
     "data": {
      "text/html": [
       "<table><tr><th>name</th><th>restaurant</th></tr><tr><td style=\"text-align:left\">Malik</td><td style=\"text-align:left\">La Palmerie Restaurant</td></tr><tr><td style=\"text-align:left\">Malik</td><td style=\"text-align:left\">Sushiima</td></tr></table>"
      ],
      "text/plain": [
       " name  | restaurant             \n",
       "-------|------------------------\n",
       " Malik | La Palmerie Restaurant \n",
       " Malik | Sushiima               "
      ]
     },
     "execution_count": 182,
     "metadata": {},
     "output_type": "execute_result"
    }
   ],
   "source": [
    "# Confirm deletion\n",
    "graph.query(\"MATCH (malik: Person {name: 'Malik'})-[:LIKES]-(r:Restaurant) RETURN malik.name as name , r.name as restaurant\")"
   ]
  },
  {
   "cell_type": "markdown",
   "id": "2cb7951e",
   "metadata": {},
   "source": [
    "3. Update"
   ]
  },
  {
   "cell_type": "code",
   "execution_count": 194,
   "id": "a4665048",
   "metadata": {},
   "outputs": [],
   "source": [
    "#Usage of Node et Relationship classes\n",
    "#Query 8: Update le nom du restaurant 'Les Orientaliste Alger' to 'Les Orientalistes Alger' [correct typo]\n",
    "restaurant = graph.nodes.match('Restaurant', name='Les Orientaliste Alger').first()\n",
    "graph.merge(restaurant)\n",
    "restaurant['name'] = 'Les Orientalistes Alger'\n",
    "graph.push(restaurant)"
   ]
  },
  {
   "cell_type": "code",
   "execution_count": 200,
   "id": "a94afc0d",
   "metadata": {},
   "outputs": [
    {
     "name": "stdout",
     "output_type": "stream",
     "text": [
      "Node('Restaurant', name='Taj Mahal')\n",
      "Node('Restaurant', name='Sushiima')\n",
      "Node('Restaurant', name='Les Orientalistes Alger')\n",
      "Node('Restaurant', name='La Palmerie Restaurant')\n",
      "Node('Restaurant', name='Le Dome')\n",
      "Node('Restaurant', name='So Pizza Authentic')\n"
     ]
    }
   ],
   "source": [
    "#Check update\n",
    "cursor = graph.run(\"MATCH (r:Restaurant) RETURN r\")\n",
    "while cursor.forward():\n",
    "    print(cursor.current)"
   ]
  },
  {
   "cell_type": "code",
   "execution_count": null,
   "id": "bbba6746",
   "metadata": {},
   "outputs": [],
   "source": [
    "neo4jupyter.draw(graph, {\"Person\": \"name\"})"
   ]
  }
 ],
 "metadata": {
  "celltoolbar": "Diaporama",
  "kernelspec": {
   "display_name": "neo4j_bdd",
   "language": "python",
   "name": "neo4j_bdd"
  },
  "language_info": {
   "codemirror_mode": {
    "name": "ipython",
    "version": 3
   },
   "file_extension": ".py",
   "mimetype": "text/x-python",
   "name": "python",
   "nbconvert_exporter": "python",
   "pygments_lexer": "ipython3",
   "version": "3.9.12"
  }
 },
 "nbformat": 4,
 "nbformat_minor": 5
}
